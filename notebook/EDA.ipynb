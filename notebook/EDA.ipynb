{
 "cells": [
  {
   "cell_type": "code",
   "execution_count": 1,
   "metadata": {},
   "outputs": [],
   "source": [
    "import os\n",
    "\n",
    "os.chdir(os.pardir)"
   ]
  },
  {
   "cell_type": "code",
   "execution_count": 2,
   "metadata": {},
   "outputs": [],
   "source": [
    "from housing.pipeline.pipeline import Pipeline"
   ]
  },
  {
   "cell_type": "code",
   "execution_count": 3,
   "metadata": {},
   "outputs": [],
   "source": [
    "p=Pipeline()"
   ]
  },
  {
   "cell_type": "code",
   "execution_count": 4,
   "metadata": {},
   "outputs": [
    {
     "data": {
      "text/plain": [
       "<Pipeline(pipeline, initial)>"
      ]
     },
     "execution_count": 4,
     "metadata": {},
     "output_type": "execute_result"
    }
   ],
   "source": [
    "p"
   ]
  },
  {
   "cell_type": "code",
   "execution_count": 5,
   "metadata": {},
   "outputs": [
    {
     "name": "stderr",
     "output_type": "stream",
     "text": [
      "Exception in thread pipeline:\n",
      "Traceback (most recent call last):\n",
      "  File \"/home/avnish/iNeuron_Private_Intelligence_Limited/MachineLearningProject/machine_learning_project/housing/pipeline/pipeline.py\", line 183, in save_experiment\n",
      "    { \"experiment_file_path\": os.path.basename(experiment_dict[\"experiment_file_path\"]),\n",
      "  File \"/home/avnish/iNeuron_Private_Intelligence_Limited/MachineLearningProject/machine_learning_project/venv/lib/python3.7/posixpath.py\", line 146, in basename\n",
      "    p = os.fspath(p)\n",
      "TypeError: expected str, bytes or os.PathLike object, not list\n",
      "\n",
      "The above exception was the direct cause of the following exception:\n",
      "\n",
      "Traceback (most recent call last):\n",
      "  File \"/home/avnish/iNeuron_Private_Intelligence_Limited/MachineLearningProject/machine_learning_project/housing/pipeline/pipeline.py\", line 132, in run_pipeline\n",
      "    self.save_experiment()\n",
      "  File \"/home/avnish/iNeuron_Private_Intelligence_Limited/MachineLearningProject/machine_learning_project/housing/pipeline/pipeline.py\", line 196, in save_experiment\n",
      "    raise HousingException(e,sys) from e\n",
      "housing.exception.HousingException: \n",
      "        Error occured in script: \n",
      "        [ /home/avnish/iNeuron_Private_Intelligence_Limited/MachineLearningProject/machine_learning_project/housing/pipeline/pipeline.py ] at \n",
      "        try block line number: [183] and exception block line number: [196] \n",
      "        error message: [expected str, bytes or os.PathLike object, not list]\n",
      "        \n",
      "\n",
      "The above exception was the direct cause of the following exception:\n",
      "\n",
      "Traceback (most recent call last):\n",
      "  File \"/home/avnish/iNeuron_Private_Intelligence_Limited/MachineLearningProject/machine_learning_project/venv/lib/python3.7/threading.py\", line 917, in _bootstrap_inner\n",
      "    self.run()\n",
      "  File \"/home/avnish/iNeuron_Private_Intelligence_Limited/MachineLearningProject/machine_learning_project/housing/pipeline/pipeline.py\", line 173, in run\n",
      "    raise e\n",
      "  File \"/home/avnish/iNeuron_Private_Intelligence_Limited/MachineLearningProject/machine_learning_project/housing/pipeline/pipeline.py\", line 171, in run\n",
      "    self.run_pipeline()\n",
      "  File \"/home/avnish/iNeuron_Private_Intelligence_Limited/MachineLearningProject/machine_learning_project/housing/pipeline/pipeline.py\", line 167, in run_pipeline\n",
      "    raise HousingException(e, sys) from e\n",
      "housing.exception.HousingException: \n",
      "        Error occured in script: \n",
      "        [ /home/avnish/iNeuron_Private_Intelligence_Limited/MachineLearningProject/machine_learning_project/housing/pipeline/pipeline.py ] at \n",
      "        try block line number: [132] and exception block line number: [167] \n",
      "        error message: [\n",
      "        Error occured in script: \n",
      "        [ /home/avnish/iNeuron_Private_Intelligence_Limited/MachineLearningProject/machine_learning_project/housing/pipeline/pipeline.py ] at \n",
      "        try block line number: [183] and exception block line number: [196] \n",
      "        error message: [expected str, bytes or os.PathLike object, not list]\n",
      "        ]\n",
      "        \n",
      "\n"
     ]
    }
   ],
   "source": [
    "p.start()"
   ]
  },
  {
   "cell_type": "code",
   "execution_count": 1,
   "metadata": {},
   "outputs": [],
   "source": [
    "f=\"/home/avnish/iNeuron_Private_Intelligence_Limited/MachineLearningProject/machine_learning_project/config/model.yaml\""
   ]
  },
  {
   "cell_type": "code",
   "execution_count": 2,
   "metadata": {},
   "outputs": [],
   "source": [
    "from housing.util.util import read_yaml_file"
   ]
  },
  {
   "cell_type": "code",
   "execution_count": 4,
   "metadata": {},
   "outputs": [],
   "source": [
    "import json"
   ]
  },
  {
   "cell_type": "code",
   "execution_count": 9,
   "metadata": {},
   "outputs": [],
   "source": [
    "json.dump(read_yaml_file(f),open(\"sample.json\",\"w\"),indent=4)"
   ]
  },
  {
   "cell_type": "code",
   "execution_count": 11,
   "metadata": {},
   "outputs": [],
   "source": [
    "data=\"\"\"{\n",
    "    \"grid_search\": {\n",
    "        \"class\": \"GridSearchCV\",\n",
    "        \"module\": \"sklearn.model_selection\",\n",
    "        \"params\": {\n",
    "            \"cv\": 4,\n",
    "            \"verbose\": 2\n",
    "        }\n",
    "    },\n",
    "    \"model_selection\": {\n",
    "        \"module_0\": {\n",
    "            \"class\": \"LinearRegression\",\n",
    "            \"module\": \"sklearn.linear_model\",\n",
    "            \"params\": {\n",
    "                \"fit_intercept\": true\n",
    "            },\n",
    "            \"search_param_grid\": {\n",
    "                \"fit_intercept\": [\n",
    "                    true\n",
    "                ]\n",
    "            }\n",
    "        },\n",
    "        \"module_1\": {\n",
    "            \"class\": \"RandomForestRegressor\",\n",
    "            \"module\": \"sklearn.ensemble\",\n",
    "            \"params\": {\n",
    "                \"min_samples_leaf\": 2\n",
    "            },\n",
    "            \"search_param_grid\": {\n",
    "                \"min_samples_leaf\": [\n",
    "                    2\n",
    "                ],\n",
    "                \"n_estimators\": [\n",
    "                    10\n",
    "                ]\n",
    "            }\n",
    "        }\n",
    "    }\n",
    "}\"\"\""
   ]
  },
  {
   "cell_type": "code",
   "execution_count": 12,
   "metadata": {},
   "outputs": [],
   "source": [
    "import json"
   ]
  },
  {
   "cell_type": "code",
   "execution_count": null,
   "metadata": {},
   "outputs": [],
   "source": [
    "json.loads(a)"
   ]
  },
  {
   "cell_type": "code",
   "execution_count": 17,
   "metadata": {},
   "outputs": [],
   "source": [
    "data=\"\"\"{'grid_search': {'class': 'GridSearchCV',\n",
    "  'module': 'sklearn.model_selection',\n",
    "  'params': {'cv': 4, 'verbose': 2}},\n",
    " 'model_selection': {'module_0': {'class': 'LinearRegression',\n",
    "   'module': 'sklearn.linear_model',\n",
    "   'params': {'fit_intercept': True},\n",
    "   'search_param_grid': {'fit_intercept': [True]}},\n",
    "  'module_1': {'class': 'RandomForestRegressor',\n",
    "   'module': 'sklearn.ensemble',\n",
    "   'params': {'min_samples_leaf': 2},\n",
    "   'search_param_grid': {'min_samples_leaf': [2], 'n_estimators': [10]}}}}\"\"\""
   ]
  },
  {
   "cell_type": "code",
   "execution_count": 33,
   "metadata": {},
   "outputs": [],
   "source": [
    "a=data.replace(\"'\",'\"').replace(\"\\n\",\"\")"
   ]
  },
  {
   "cell_type": "code",
   "execution_count": 27,
   "metadata": {},
   "outputs": [
    {
     "data": {
      "text/plain": [
       "1"
      ]
     },
     "execution_count": 27,
     "metadata": {},
     "output_type": "execute_result"
    }
   ],
   "source": [
    "len(data[245])"
   ]
  },
  {
   "cell_type": "code",
   "execution_count": 37,
   "metadata": {},
   "outputs": [
    {
     "name": "stdout",
     "output_type": "stream",
     "text": [
      "Expecting value: line 1 column 246 (char 245)\n"
     ]
    }
   ],
   "source": []
  },
  {
   "cell_type": "code",
   "execution_count": null,
   "metadata": {},
   "outputs": [],
   "source": []
  }
 ],
 "metadata": {
  "kernelspec": {
   "display_name": "Python 3.7.0",
   "language": "python",
   "name": "python3"
  },
  "language_info": {
   "codemirror_mode": {
    "name": "ipython",
    "version": 3
   },
   "file_extension": ".py",
   "mimetype": "text/x-python",
   "name": "python",
   "nbconvert_exporter": "python",
   "pygments_lexer": "ipython3",
   "version": "3.7.0"
  },
  "orig_nbformat": 4,
  "vscode": {
   "interpreter": {
    "hash": "7a29293c9d4d8b93126739266382f07a312940ff8d40640417510f0b045f4058"
   }
  }
 },
 "nbformat": 4,
 "nbformat_minor": 2
}
